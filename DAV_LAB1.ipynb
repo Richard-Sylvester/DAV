{
  "nbformat": 4,
  "nbformat_minor": 0,
  "metadata": {
    "colab": {
      "provenance": []
    },
    "kernelspec": {
      "name": "python3",
      "display_name": "Python 3"
    },
    "language_info": {
      "name": "python"
    }
  },
  "cells": [
    {
      "cell_type": "code",
      "execution_count": null,
      "metadata": {
        "colab": {
          "base_uri": "https://localhost:8080/"
        },
        "id": "_RgiX6dLdELn",
        "outputId": "bdbf1c0c-8cb7-4429-c844-e7fc52a0a406"
      },
      "outputs": [
        {
          "output_type": "execute_result",
          "data": {
            "text/plain": [
              "array([ 5.  ,  6.25,  7.5 ,  8.75, 10.  ])"
            ]
          },
          "metadata": {},
          "execution_count": 5
        }
      ],
      "source": [
        "#using linspace #\n",
        "import numpy as np\n",
        "c = np.linspace(5, 10, 5) #start, end, number of\n",
        "c"
      ]
    },
    {
      "cell_type": "code",
      "source": [
        "#commonarays\n",
        "d = np.ones((3,5))\n",
        "d"
      ],
      "metadata": {
        "colab": {
          "base_uri": "https://localhost:8080/"
        },
        "id": "DFffJwiCdyJH",
        "outputId": "a8a1a24c-f9b7-478f-ceb6-3f8147c54916"
      },
      "execution_count": null,
      "outputs": [
        {
          "output_type": "execute_result",
          "data": {
            "text/plain": [
              "array([[1., 1., 1., 1., 1.],\n",
              "       [1., 1., 1., 1., 1.],\n",
              "       [1., 1., 1., 1., 1.]])"
            ]
          },
          "metadata": {},
          "execution_count": 4
        }
      ]
    },
    {
      "cell_type": "code",
      "source": [
        "x = np.zeros((3,3))\n",
        "x"
      ],
      "metadata": {
        "colab": {
          "base_uri": "https://localhost:8080/"
        },
        "id": "NGB5mWaEeTTf",
        "outputId": "cb5b348a-ce2f-4f05-d3f8-f4b90e6da5fe"
      },
      "execution_count": null,
      "outputs": [
        {
          "output_type": "execute_result",
          "data": {
            "text/plain": [
              "array([[0., 0., 0.],\n",
              "       [0., 0., 0.],\n",
              "       [0., 0., 0.]])"
            ]
          },
          "metadata": {},
          "execution_count": 5
        }
      ]
    },
    {
      "cell_type": "code",
      "source": [
        "y = np.eye(3) #creates a matrix with 1 as the diagnols and 0 as the non-diagnols\n",
        "y"
      ],
      "metadata": {
        "colab": {
          "base_uri": "https://localhost:8080/"
        },
        "id": "I4pSHFvSe7QG",
        "outputId": "11468d9c-9c6e-41e2-846e-52994615647c"
      },
      "execution_count": null,
      "outputs": [
        {
          "output_type": "execute_result",
          "data": {
            "text/plain": [
              "array([[1., 0., 0.],\n",
              "       [0., 1., 0.],\n",
              "       [0., 0., 1.]])"
            ]
          },
          "metadata": {},
          "execution_count": 6
        }
      ]
    },
    {
      "cell_type": "code",
      "source": [
        "z = np.eye(3,2)\n",
        "z"
      ],
      "metadata": {
        "colab": {
          "base_uri": "https://localhost:8080/"
        },
        "id": "b78u00AmfLFG",
        "outputId": "eeb7541c-16af-4759-a3dd-2d387843e81e"
      },
      "execution_count": null,
      "outputs": [
        {
          "output_type": "execute_result",
          "data": {
            "text/plain": [
              "array([[1., 0.],\n",
              "       [0., 1.],\n",
              "       [0., 0.]])"
            ]
          },
          "metadata": {},
          "execution_count": 7
        }
      ]
    },
    {
      "cell_type": "code",
      "source": [
        "a = np.diag([1,2,3,4]) #construct a diagnol array\n",
        "a"
      ],
      "metadata": {
        "colab": {
          "base_uri": "https://localhost:8080/"
        },
        "id": "gyFOZZVBfR_W",
        "outputId": "badbd280-b7b3-4990-e33a-a1561091e235"
      },
      "execution_count": null,
      "outputs": [
        {
          "output_type": "execute_result",
          "data": {
            "text/plain": [
              "array([[1, 0, 0, 0],\n",
              "       [0, 2, 0, 0],\n",
              "       [0, 0, 3, 0],\n",
              "       [0, 0, 0, 4]])"
            ]
          },
          "metadata": {},
          "execution_count": 9
        }
      ]
    },
    {
      "cell_type": "code",
      "source": [
        "#creates an array using random\n",
        "a = np.random.rand(4)\n",
        "a"
      ],
      "metadata": {
        "colab": {
          "base_uri": "https://localhost:8080/"
        },
        "id": "LxUQMEs0gciz",
        "outputId": "bc4a29f9-9b85-4f20-98b0-881f0a4a07de"
      },
      "execution_count": null,
      "outputs": [
        {
          "output_type": "execute_result",
          "data": {
            "text/plain": [
              "array([0.01413163, 0.36319792, 0.08436233, 0.9804249 ])"
            ]
          },
          "metadata": {},
          "execution_count": 10
        }
      ]
    },
    {
      "cell_type": "code",
      "source": [
        "a = np.array([1+2j, 5+1j])\n",
        "a"
      ],
      "metadata": {
        "colab": {
          "base_uri": "https://localhost:8080/"
        },
        "id": "M8uz2WqmhADe",
        "outputId": "09d6ff4f-6a99-486e-981f-fe7220125603"
      },
      "execution_count": null,
      "outputs": [
        {
          "output_type": "execute_result",
          "data": {
            "text/plain": [
              "array([1.+2.j, 5.+1.j])"
            ]
          },
          "metadata": {},
          "execution_count": 11
        }
      ]
    },
    {
      "cell_type": "code",
      "source": [
        "c = np.array([True,False,True])\n",
        "display(c.dtype)"
      ],
      "metadata": {
        "colab": {
          "base_uri": "https://localhost:8080/",
          "height": 35
        },
        "id": "tY9U_IFTiUbe",
        "outputId": "f64087f4-7cc3-40c0-9ba4-c53e127dedb9"
      },
      "execution_count": null,
      "outputs": [
        {
          "output_type": "display_data",
          "data": {
            "text/plain": [
              "dtype('bool')"
            ]
          },
          "metadata": {}
        }
      ]
    },
    {
      "cell_type": "code",
      "source": [
        "a = np.arange(10)\n",
        "print(a)\n",
        "print(a[5])\n",
        "print(a[-2])"
      ],
      "metadata": {
        "colab": {
          "base_uri": "https://localhost:8080/"
        },
        "id": "8W_J6aZzikP-",
        "outputId": "95c47a23-6aac-4495-ae21-8db3bb8a2b06"
      },
      "execution_count": null,
      "outputs": [
        {
          "output_type": "stream",
          "name": "stdout",
          "text": [
            "[0 1 2 3 4 5 6 7 8 9]\n",
            "5\n",
            "8\n"
          ]
        }
      ]
    },
    {
      "cell_type": "code",
      "source": [
        "b = np.diag([1,2,3])\n",
        "print(b)\n",
        "print(b[2,2])"
      ],
      "metadata": {
        "colab": {
          "base_uri": "https://localhost:8080/"
        },
        "id": "CE5TVzO1ipdV",
        "outputId": "a1d20eec-70d6-43d9-ed0f-77fa167c3d23"
      },
      "execution_count": null,
      "outputs": [
        {
          "output_type": "stream",
          "name": "stdout",
          "text": [
            "[[1 0 0]\n",
            " [0 2 0]\n",
            " [0 0 3]]\n",
            "3\n"
          ]
        }
      ]
    },
    {
      "cell_type": "code",
      "source": [
        "b[2,1]=10\n",
        "b"
      ],
      "metadata": {
        "colab": {
          "base_uri": "https://localhost:8080/"
        },
        "id": "RLnL32a7j9zA",
        "outputId": "88e8ee23-fa69-48a8-89fd-d292a52c51ab"
      },
      "execution_count": null,
      "outputs": [
        {
          "output_type": "execute_result",
          "data": {
            "text/plain": [
              "array([[ 1,  0,  0],\n",
              "       [ 0,  2,  0],\n",
              "       [ 0, 10,  3]])"
            ]
          },
          "metadata": {},
          "execution_count": 17
        }
      ]
    },
    {
      "cell_type": "markdown",
      "source": [
        "Slicing"
      ],
      "metadata": {
        "id": "blABnJwxkFtu"
      }
    },
    {
      "cell_type": "code",
      "source": [
        "a=np.arange(10)\n",
        "print(a[1:10])"
      ],
      "metadata": {
        "colab": {
          "base_uri": "https://localhost:8080/"
        },
        "id": "1KiQlT76wmt_",
        "outputId": "b6e41fd2-82b5-413c-b4f3-c56802ed0db9"
      },
      "execution_count": null,
      "outputs": [
        {
          "output_type": "stream",
          "name": "stdout",
          "text": [
            "[1 2 3 4 5 6 7 8 9]\n"
          ]
        }
      ]
    },
    {
      "cell_type": "code",
      "source": [
        "a = np.arange(10)\n",
        "print(a[1:10:2])"
      ],
      "metadata": {
        "colab": {
          "base_uri": "https://localhost:8080/"
        },
        "id": "CsoUPmCqwee3",
        "outputId": "e865fd2c-3ffc-42eb-8f16-4bf768ac7698"
      },
      "execution_count": null,
      "outputs": [
        {
          "output_type": "stream",
          "name": "stdout",
          "text": [
            "[1 3 5 7 9]\n"
          ]
        }
      ]
    },
    {
      "cell_type": "code",
      "source": [
        "b = np.arange(10)\n",
        "b[5:] = 10\n",
        "print(b)"
      ],
      "metadata": {
        "colab": {
          "base_uri": "https://localhost:8080/"
        },
        "id": "nU1ADodVkjFW",
        "outputId": "3d549983-05d7-49fe-f286-0f778d4081a1"
      },
      "execution_count": null,
      "outputs": [
        {
          "output_type": "stream",
          "name": "stdout",
          "text": [
            "[ 0  1  2  3  4 10 10 10 10 10]\n"
          ]
        }
      ]
    },
    {
      "cell_type": "code",
      "source": [
        "a = np.arange(10)\n",
        "b = a[::2]\n",
        "np.shares_memory(a,b)"
      ],
      "metadata": {
        "colab": {
          "base_uri": "https://localhost:8080/"
        },
        "id": "rHqEExyLlDbm",
        "outputId": "91b62bd3-2056-460c-ff0c-649e8550517b"
      },
      "execution_count": null,
      "outputs": [
        {
          "output_type": "execute_result",
          "data": {
            "text/plain": [
              "True"
            ]
          },
          "metadata": {},
          "execution_count": 21
        }
      ]
    },
    {
      "cell_type": "code",
      "source": [
        "c = a[::2].copy()\n",
        "np.shares_memory(a,c)"
      ],
      "metadata": {
        "colab": {
          "base_uri": "https://localhost:8080/"
        },
        "id": "8_8sLy_jmCNg",
        "outputId": "ee307e92-0e86-47d6-d33e-79f3b3ed9565"
      },
      "execution_count": null,
      "outputs": [
        {
          "output_type": "execute_result",
          "data": {
            "text/plain": [
              "False"
            ]
          },
          "metadata": {},
          "execution_count": 22
        }
      ]
    },
    {
      "cell_type": "code",
      "source": [
        "c[0] = 5\n",
        "print(c)\n",
        "print(a)"
      ],
      "metadata": {
        "colab": {
          "base_uri": "https://localhost:8080/"
        },
        "id": "qrXmiCnynoQu",
        "outputId": "d088b458-e241-4981-945a-d3b51a41db6d"
      },
      "execution_count": null,
      "outputs": [
        {
          "output_type": "stream",
          "name": "stdout",
          "text": [
            "[5 2 4 6 8]\n",
            "[0 1 2 3 4 5 6 7 8 9]\n"
          ]
        }
      ]
    },
    {
      "cell_type": "code",
      "source": [
        "a = np.random.randint(0,20,15)\n",
        "print(a)"
      ],
      "metadata": {
        "colab": {
          "base_uri": "https://localhost:8080/"
        },
        "id": "alNT1L8rnydO",
        "outputId": "c4d2567d-cc84-4364-c434-363711cb27c5"
      },
      "execution_count": null,
      "outputs": [
        {
          "output_type": "stream",
          "name": "stdout",
          "text": [
            "[18 18  6 17  8  0  0  0 10  2 18 13 16  5 11]\n"
          ]
        }
      ]
    },
    {
      "cell_type": "code",
      "source": [
        "mask = (a%2==0)"
      ],
      "metadata": {
        "id": "F1ySwdpPpkbe"
      },
      "execution_count": null,
      "outputs": []
    },
    {
      "cell_type": "code",
      "source": [
        "even_numbers = a[mask]\n",
        "even_numbers"
      ],
      "metadata": {
        "colab": {
          "base_uri": "https://localhost:8080/"
        },
        "id": "F6kZIup5ox11",
        "outputId": "eb2373dc-569a-4131-e098-1ac9cf31000e"
      },
      "execution_count": null,
      "outputs": [
        {
          "output_type": "execute_result",
          "data": {
            "text/plain": [
              "array([18, 18,  6,  8,  0,  0,  0, 10,  2, 18, 16])"
            ]
          },
          "metadata": {},
          "execution_count": 29
        }
      ]
    },
    {
      "cell_type": "code",
      "source": [
        "a[mask]=-1\n",
        "a"
      ],
      "metadata": {
        "colab": {
          "base_uri": "https://localhost:8080/"
        },
        "id": "TTtVH-VNpfZW",
        "outputId": "f8874636-3585-4caf-b10e-627f11351fea"
      },
      "execution_count": null,
      "outputs": [
        {
          "output_type": "execute_result",
          "data": {
            "text/plain": [
              "array([-1, -1, -1, 17, -1, -1, -1, -1, -1, -1, -1, 13, -1,  5, 11])"
            ]
          },
          "metadata": {},
          "execution_count": 32
        }
      ]
    },
    {
      "cell_type": "code",
      "source": [
        "a = np.arange(0,100,10)\n",
        "print(a)"
      ],
      "metadata": {
        "colab": {
          "base_uri": "https://localhost:8080/"
        },
        "id": "f6CTYP_kp5PV",
        "outputId": "5e1bba40-4846-441a-b581-aa0a0375ec19"
      },
      "execution_count": null,
      "outputs": [
        {
          "output_type": "stream",
          "name": "stdout",
          "text": [
            "[ 0 10 20 30 40 50 60 70 80 90]\n"
          ]
        }
      ]
    },
    {
      "cell_type": "code",
      "source": [
        "b = a[[2,3,5,3,4]]\n",
        "print(b)"
      ],
      "metadata": {
        "colab": {
          "base_uri": "https://localhost:8080/"
        },
        "id": "d6uMmPU0q4se",
        "outputId": "0a96ec50-d375-4276-8d0b-0fbe2ecb8335"
      },
      "execution_count": null,
      "outputs": [
        {
          "output_type": "stream",
          "name": "stdout",
          "text": [
            "[20 30 50 30 40]\n"
          ]
        }
      ]
    },
    {
      "cell_type": "code",
      "source": [
        "a[[9,7]] = -200\n",
        "print(a)\n",
        "print(b)"
      ],
      "metadata": {
        "colab": {
          "base_uri": "https://localhost:8080/"
        },
        "id": "vAuaNJojrBjO",
        "outputId": "56b5e5e6-39a9-424d-8470-69e1291af1b4"
      },
      "execution_count": null,
      "outputs": [
        {
          "output_type": "stream",
          "name": "stdout",
          "text": [
            "[   0   10   20   30   40   50   60 -200   80 -200]\n",
            "[20 30 50 30 40]\n"
          ]
        }
      ]
    },
    {
      "cell_type": "code",
      "source": [
        "print(a**2)"
      ],
      "metadata": {
        "colab": {
          "base_uri": "https://localhost:8080/"
        },
        "id": "tAGejuK_rJdG",
        "outputId": "9ef1347e-e1fe-4c08-aecd-f657fa0f692f"
      },
      "execution_count": null,
      "outputs": [
        {
          "output_type": "stream",
          "name": "stdout",
          "text": [
            "[    0   100   400   900  1600  2500  3600 40000  6400 40000]\n"
          ]
        }
      ]
    },
    {
      "cell_type": "code",
      "source": [
        "b = np.ones(10) + 1\n",
        "print(\"b = \",b)\n",
        "print(\"a - b = \",a-b)"
      ],
      "metadata": {
        "colab": {
          "base_uri": "https://localhost:8080/"
        },
        "id": "gANxqcGyr7Du",
        "outputId": "6442fc72-d6d8-4b4d-d1d6-6740e834dc02"
      },
      "execution_count": null,
      "outputs": [
        {
          "output_type": "stream",
          "name": "stdout",
          "text": [
            "b =  [2. 2. 2. 2. 2. 2. 2. 2. 2. 2.]\n",
            "a - b =  [  -2.    8.   18.   28.   38.   48.   58. -202.   78. -202.]\n"
          ]
        }
      ]
    },
    {
      "cell_type": "code",
      "source": [
        "c = np.diag([1,2,3,4])\n",
        "print(c)\n",
        "print(\"*\"*100)\n",
        "print(c*c)\n",
        "print(\"*\"*100)\n",
        "print(c.dot(c))"
      ],
      "metadata": {
        "colab": {
          "base_uri": "https://localhost:8080/"
        },
        "id": "J5m8boZQsLhW",
        "outputId": "8879f417-d2e6-49d5-8494-a02637912041"
      },
      "execution_count": null,
      "outputs": [
        {
          "output_type": "stream",
          "name": "stdout",
          "text": [
            "[[1 0 0 0]\n",
            " [0 2 0 0]\n",
            " [0 0 3 0]\n",
            " [0 0 0 4]]\n",
            "****************************************************************************************************\n",
            "[[ 1  0  0  0]\n",
            " [ 0  4  0  0]\n",
            " [ 0  0  9  0]\n",
            " [ 0  0  0 16]]\n",
            "****************************************************************************************************\n",
            "[[ 1  0  0  0]\n",
            " [ 0  4  0  0]\n",
            " [ 0  0  9  0]\n",
            " [ 0  0  0 16]]\n"
          ]
        }
      ]
    },
    {
      "cell_type": "code",
      "source": [
        "#element comparision\n",
        "a=np.array([1,2,3,4])\n",
        "b=np.array([6,2,9,4])\n",
        "print(a==b)"
      ],
      "metadata": {
        "id": "zcj6ysSVtAGu",
        "colab": {
          "base_uri": "https://localhost:8080/"
        },
        "outputId": "a9ea416b-d896-40a9-f6b8-a0c6cfba09d5"
      },
      "execution_count": null,
      "outputs": [
        {
          "output_type": "stream",
          "name": "stdout",
          "text": [
            "[False  True False  True]\n"
          ]
        }
      ]
    },
    {
      "cell_type": "code",
      "source": [
        "print(a>b)"
      ],
      "metadata": {
        "colab": {
          "base_uri": "https://localhost:8080/"
        },
        "id": "UD1IJZK5t1wJ",
        "outputId": "50a168c7-a99c-4909-bc79-44840a2bad66"
      },
      "execution_count": null,
      "outputs": [
        {
          "output_type": "stream",
          "name": "stdout",
          "text": [
            "[False False False False]\n"
          ]
        }
      ]
    },
    {
      "cell_type": "code",
      "source": [
        "print(a<b)"
      ],
      "metadata": {
        "colab": {
          "base_uri": "https://localhost:8080/"
        },
        "id": "1NysS4f1uAix",
        "outputId": "48f2ea6b-b8bf-45ca-f286-a8d4b2e88be8"
      },
      "execution_count": null,
      "outputs": [
        {
          "output_type": "stream",
          "name": "stdout",
          "text": [
            "[ True False  True False]\n"
          ]
        }
      ]
    },
    {
      "cell_type": "code",
      "source": [
        "print (np.array_equal(a,b))"
      ],
      "metadata": {
        "colab": {
          "base_uri": "https://localhost:8080/"
        },
        "id": "EqYX6qsUuDFJ",
        "outputId": "92436792-c39d-4ed6-ff58-39c9fdebdcb1"
      },
      "execution_count": null,
      "outputs": [
        {
          "output_type": "stream",
          "name": "stdout",
          "text": [
            "False\n"
          ]
        }
      ]
    },
    {
      "cell_type": "code",
      "source": [
        "c=np.array([1,2,5,4])\n",
        "print(np.array_equal(a,c))"
      ],
      "metadata": {
        "colab": {
          "base_uri": "https://localhost:8080/"
        },
        "id": "2iUNskInuz2p",
        "outputId": "a9060462-8b65-481a-d7dc-981f47e0f88e"
      },
      "execution_count": null,
      "outputs": [
        {
          "output_type": "stream",
          "name": "stdout",
          "text": [
            "False\n"
          ]
        }
      ]
    },
    {
      "cell_type": "markdown",
      "source": [
        "Logical Operations"
      ],
      "metadata": {
        "id": "Wvwl0mnCvBL7"
      }
    },
    {
      "cell_type": "code",
      "source": [
        "a=np.array([1,0,0,1],dtype=\"bool\")\n",
        "b=np.array([0,1,0,1],dtype=\"bool\")\n",
        "print(np.logical_or(a,b))"
      ],
      "metadata": {
        "colab": {
          "base_uri": "https://localhost:8080/"
        },
        "id": "DBm64Up6u5DR",
        "outputId": "f29ae0d9-bc9b-44ac-e2fd-413807fc1a3a"
      },
      "execution_count": null,
      "outputs": [
        {
          "output_type": "stream",
          "name": "stdout",
          "text": [
            "[ True  True False  True]\n"
          ]
        }
      ]
    },
    {
      "cell_type": "code",
      "source": [
        "print(np.logical_not(a,b))"
      ],
      "metadata": {
        "colab": {
          "base_uri": "https://localhost:8080/"
        },
        "id": "Z60pZHCSwxZD",
        "outputId": "ef5a5e1d-a5d8-4226-cc4b-2a089ae620cb"
      },
      "execution_count": null,
      "outputs": [
        {
          "output_type": "stream",
          "name": "stdout",
          "text": [
            "[False  True  True False]\n"
          ]
        }
      ]
    },
    {
      "cell_type": "markdown",
      "source": [
        "Transcend"
      ],
      "metadata": {
        "id": "RY946ElmxTRE"
      }
    },
    {
      "cell_type": "code",
      "source": [
        "a=np.arange(5)+1\n",
        "print(np.sin(a))"
      ],
      "metadata": {
        "colab": {
          "base_uri": "https://localhost:8080/"
        },
        "id": "rz6yCn13w2gq",
        "outputId": "476cef7b-737c-4b89-aee8-659a6ebaf201"
      },
      "execution_count": null,
      "outputs": [
        {
          "output_type": "stream",
          "name": "stdout",
          "text": [
            "[ 0.84147098  0.90929743  0.14112001 -0.7568025  -0.95892427]\n"
          ]
        }
      ]
    },
    {
      "cell_type": "code",
      "source": [
        "print(np.log(a))\n"
      ],
      "metadata": {
        "colab": {
          "base_uri": "https://localhost:8080/"
        },
        "id": "wiT_28-gxQKE",
        "outputId": "e4a00a4f-124f-45cc-cdd9-8579faab7c6c"
      },
      "execution_count": null,
      "outputs": [
        {
          "output_type": "stream",
          "name": "stdout",
          "text": [
            "[0.         0.69314718 1.09861229 1.38629436 1.60943791]\n"
          ]
        }
      ]
    },
    {
      "cell_type": "code",
      "source": [
        "print(np.exp(a))"
      ],
      "metadata": {
        "colab": {
          "base_uri": "https://localhost:8080/"
        },
        "id": "xtG1IUCkxdYF",
        "outputId": "766b98ac-1a68-44b6-92ca-f3530fe0b67f"
      },
      "execution_count": null,
      "outputs": [
        {
          "output_type": "stream",
          "name": "stdout",
          "text": [
            "[  2.71828183   7.3890561   20.08553692  54.59815003 148.4131591 ]\n"
          ]
        }
      ]
    },
    {
      "cell_type": "markdown",
      "source": [
        "Shape Mismatch"
      ],
      "metadata": {
        "id": "qcj7nM2Vxi2-"
      }
    },
    {
      "cell_type": "code",
      "source": [
        "a=np.array([1,2,3,4])\n",
        "b=np.array([5,10])\n",
        "print(a+b)"
      ],
      "metadata": {
        "colab": {
          "base_uri": "https://localhost:8080/",
          "height": 210
        },
        "id": "POshOG6WxgAc",
        "outputId": "a46c45cf-d1d5-4cfd-ee6b-346e74fa2e48"
      },
      "execution_count": null,
      "outputs": [
        {
          "output_type": "error",
          "ename": "ValueError",
          "evalue": "operands could not be broadcast together with shapes (4,) (2,) ",
          "traceback": [
            "\u001b[0;31m---------------------------------------------------------------------------\u001b[0m",
            "\u001b[0;31mValueError\u001b[0m                                Traceback (most recent call last)",
            "\u001b[0;32m<ipython-input-16-f8e2422298ab>\u001b[0m in \u001b[0;36m<cell line: 3>\u001b[0;34m()\u001b[0m\n\u001b[1;32m      1\u001b[0m \u001b[0ma\u001b[0m\u001b[0;34m=\u001b[0m\u001b[0mnp\u001b[0m\u001b[0;34m.\u001b[0m\u001b[0marray\u001b[0m\u001b[0;34m(\u001b[0m\u001b[0;34m[\u001b[0m\u001b[0;36m1\u001b[0m\u001b[0;34m,\u001b[0m\u001b[0;36m2\u001b[0m\u001b[0;34m,\u001b[0m\u001b[0;36m3\u001b[0m\u001b[0;34m,\u001b[0m\u001b[0;36m4\u001b[0m\u001b[0;34m]\u001b[0m\u001b[0;34m)\u001b[0m\u001b[0;34m\u001b[0m\u001b[0;34m\u001b[0m\u001b[0m\n\u001b[1;32m      2\u001b[0m \u001b[0mb\u001b[0m\u001b[0;34m=\u001b[0m\u001b[0mnp\u001b[0m\u001b[0;34m.\u001b[0m\u001b[0marray\u001b[0m\u001b[0;34m(\u001b[0m\u001b[0;34m[\u001b[0m\u001b[0;36m5\u001b[0m\u001b[0;34m,\u001b[0m\u001b[0;36m10\u001b[0m\u001b[0;34m]\u001b[0m\u001b[0;34m)\u001b[0m\u001b[0;34m\u001b[0m\u001b[0;34m\u001b[0m\u001b[0m\n\u001b[0;32m----> 3\u001b[0;31m \u001b[0mprint\u001b[0m\u001b[0;34m(\u001b[0m\u001b[0ma\u001b[0m\u001b[0;34m+\u001b[0m\u001b[0mb\u001b[0m\u001b[0;34m)\u001b[0m\u001b[0;34m\u001b[0m\u001b[0;34m\u001b[0m\u001b[0m\n\u001b[0m",
            "\u001b[0;31mValueError\u001b[0m: operands could not be broadcast together with shapes (4,) (2,) "
          ]
        }
      ]
    },
    {
      "cell_type": "markdown",
      "source": [
        "Basic Reductions"
      ],
      "metadata": {
        "id": "WJS_CMuhzBm1"
      }
    },
    {
      "cell_type": "code",
      "source": [
        "x=np.array([1,2,3,4])\n",
        "print(np.sum(x))"
      ],
      "metadata": {
        "colab": {
          "base_uri": "https://localhost:8080/"
        },
        "id": "4qxnYqV3yfnS",
        "outputId": "44b2362f-3efe-4b85-f771-3df686144c0c"
      },
      "execution_count": null,
      "outputs": [
        {
          "output_type": "stream",
          "name": "stdout",
          "text": [
            "10\n"
          ]
        }
      ]
    },
    {
      "cell_type": "code",
      "source": [
        "y=np.array([[1,2],[3,4]])\n",
        "print(y)\n",
        "print(\"*\"*100)\n",
        "print(y.T)"
      ],
      "metadata": {
        "colab": {
          "base_uri": "https://localhost:8080/"
        },
        "id": "v9f_19VizMt0",
        "outputId": "24a3d10c-dce3-4686-fad7-d7d2db6f82e5"
      },
      "execution_count": null,
      "outputs": [
        {
          "output_type": "stream",
          "name": "stdout",
          "text": [
            "[[1 2]\n",
            " [3 4]]\n",
            "****************************************************************************************************\n",
            "[[1 3]\n",
            " [2 4]]\n"
          ]
        }
      ]
    },
    {
      "cell_type": "code",
      "source": [
        "print(y.sum(axis=0)) #column wise sum"
      ],
      "metadata": {
        "colab": {
          "base_uri": "https://localhost:8080/"
        },
        "id": "TtmkgpGTzoKx",
        "outputId": "c2d18561-7db3-4c26-f725-3acdfb88f160"
      },
      "execution_count": null,
      "outputs": [
        {
          "output_type": "stream",
          "name": "stdout",
          "text": [
            "[4 6]\n"
          ]
        }
      ]
    },
    {
      "cell_type": "code",
      "source": [
        "print(y.sum(axis=1))"
      ],
      "metadata": {
        "colab": {
          "base_uri": "https://localhost:8080/"
        },
        "id": "As6wJigX076A",
        "outputId": "b9bb20cb-adee-42eb-a902-9c2685e31d8b"
      },
      "execution_count": null,
      "outputs": [
        {
          "output_type": "stream",
          "name": "stdout",
          "text": [
            "[3 7]\n"
          ]
        }
      ]
    },
    {
      "cell_type": "code",
      "source": [
        "print(y.max())"
      ],
      "metadata": {
        "colab": {
          "base_uri": "https://localhost:8080/"
        },
        "id": "4H2abNmC1DYb",
        "outputId": "4fcaf60d-892c-4e20-b56e-f520a3e3b7cd"
      },
      "execution_count": null,
      "outputs": [
        {
          "output_type": "stream",
          "name": "stdout",
          "text": [
            "4\n"
          ]
        }
      ]
    },
    {
      "cell_type": "code",
      "source": [
        "print(y.argmin()) #index of minimun element"
      ],
      "metadata": {
        "colab": {
          "base_uri": "https://localhost:8080/"
        },
        "id": "gmtCNmqM1WMF",
        "outputId": "9e8e1124-a75f-4ef7-a4a3-01fc3d60a0ca"
      },
      "execution_count": null,
      "outputs": [
        {
          "output_type": "stream",
          "name": "stdout",
          "text": [
            "0\n"
          ]
        }
      ]
    },
    {
      "cell_type": "code",
      "source": [
        "print(y.argmax())  #index of maximun element"
      ],
      "metadata": {
        "colab": {
          "base_uri": "https://localhost:8080/"
        },
        "id": "aaCadxm61o84",
        "outputId": "7e95fd34-ed7c-4f46-c0c8-36efb495bdc8"
      },
      "execution_count": null,
      "outputs": [
        {
          "output_type": "stream",
          "name": "stdout",
          "text": [
            "3\n"
          ]
        }
      ]
    },
    {
      "cell_type": "code",
      "source": [
        "print(np.all([True,False,False])) #logical and"
      ],
      "metadata": {
        "colab": {
          "base_uri": "https://localhost:8080/"
        },
        "id": "uW3FIMDm1zFW",
        "outputId": "9c06482f-b761-4d2e-b32b-7208c1c1562e"
      },
      "execution_count": null,
      "outputs": [
        {
          "output_type": "stream",
          "name": "stdout",
          "text": [
            "False\n"
          ]
        }
      ]
    },
    {
      "cell_type": "code",
      "source": [
        "print(np.any([True,False,False])) #logical or"
      ],
      "metadata": {
        "colab": {
          "base_uri": "https://localhost:8080/"
        },
        "id": "RvfoT4Yz2YW8",
        "outputId": "cf80433a-1574-403f-a22f-6cc59412b60c"
      },
      "execution_count": null,
      "outputs": [
        {
          "output_type": "stream",
          "name": "stdout",
          "text": [
            "True\n"
          ]
        }
      ]
    },
    {
      "cell_type": "code",
      "source": [
        "a=np.zeros((50,50))\n",
        "print(np.any(a!=0))"
      ],
      "metadata": {
        "colab": {
          "base_uri": "https://localhost:8080/"
        },
        "id": "aUeRfjqj2oh3",
        "outputId": "46fddd53-89bf-4f69-c67a-322f2704f7a1"
      },
      "execution_count": null,
      "outputs": [
        {
          "output_type": "stream",
          "name": "stdout",
          "text": [
            "False\n"
          ]
        }
      ]
    },
    {
      "cell_type": "markdown",
      "source": [
        "Statistics"
      ],
      "metadata": {
        "id": "j6Hu95aL3g12"
      }
    },
    {
      "cell_type": "code",
      "source": [
        "x = np.arange(1,10)\n",
        "print(np.mean(x))"
      ],
      "metadata": {
        "colab": {
          "base_uri": "https://localhost:8080/"
        },
        "id": "3gZ2kVhw2vbX",
        "outputId": "6c247207-63fe-4639-813d-e80e4716a0ca"
      },
      "execution_count": null,
      "outputs": [
        {
          "output_type": "stream",
          "name": "stdout",
          "text": [
            "5.0\n"
          ]
        }
      ]
    },
    {
      "cell_type": "code",
      "source": [
        "y=np.array([[1,2,3],[3,4,5]])\n",
        "print(np.mean(y,axis=0)) #column wise mean\n",
        "print(np.mean(y,axis=1)) #row wise mean"
      ],
      "metadata": {
        "colab": {
          "base_uri": "https://localhost:8080/"
        },
        "id": "YqMfFtTp31de",
        "outputId": "b61c6218-9f19-4f88-f73d-e6625d88e647"
      },
      "execution_count": null,
      "outputs": [
        {
          "output_type": "stream",
          "name": "stdout",
          "text": [
            "[2. 3. 4.]\n",
            "[2. 4.]\n"
          ]
        }
      ]
    },
    {
      "cell_type": "code",
      "source": [
        "print(np.std(x))"
      ],
      "metadata": {
        "colab": {
          "base_uri": "https://localhost:8080/"
        },
        "id": "OaRpW4Iw4N-J",
        "outputId": "fc2b0344-3d23-4d5b-8e84-e69b10772086"
      },
      "execution_count": null,
      "outputs": [
        {
          "output_type": "stream",
          "name": "stdout",
          "text": [
            "2.581988897471611\n"
          ]
        }
      ]
    },
    {
      "cell_type": "markdown",
      "source": [
        "1. Write a numpy program to convert a list of numerical value into one dimensional NumPy array"
      ],
      "metadata": {
        "id": "YpjiY1ji5GXf"
      }
    },
    {
      "cell_type": "code",
      "source": [
        "li=[1,2,3,4,5,6,7,8,9]\n",
        "ar=np.array(li)\n",
        "print(ar)"
      ],
      "metadata": {
        "colab": {
          "base_uri": "https://localhost:8080/"
        },
        "id": "sQMTOlj748IG",
        "outputId": "de92a52d-d738-47c7-b820-6711a0921b33"
      },
      "execution_count": null,
      "outputs": [
        {
          "output_type": "stream",
          "name": "stdout",
          "text": [
            "[1 2 3 4 5 6 7 8 9]\n"
          ]
        }
      ]
    },
    {
      "cell_type": "markdown",
      "source": [
        "2. Write a NumPy program to create a 3x3 matrix with values ranging from 1 to 10"
      ],
      "metadata": {
        "id": "uXCCTFEw6OdO"
      }
    },
    {
      "cell_type": "code",
      "source": [
        "x=np.arange(1,10).reshape(3,3)\n",
        "print(x)"
      ],
      "metadata": {
        "colab": {
          "base_uri": "https://localhost:8080/"
        },
        "id": "S9BVtfS259YI",
        "outputId": "374e8807-95fe-4732-daf5-9b84d9503103"
      },
      "execution_count": null,
      "outputs": [
        {
          "output_type": "stream",
          "name": "stdout",
          "text": [
            "[[1 2 3]\n",
            " [4 5 6]\n",
            " [7 8 9]]\n"
          ]
        }
      ]
    },
    {
      "cell_type": "markdown",
      "source": [
        "3. WAP to sort along the first,last axis of an array"
      ],
      "metadata": {
        "id": "T4kbEfnH7o8_"
      }
    },
    {
      "cell_type": "code",
      "source": [
        "a=np.array([[10,40,60],[20,30,50]])\n",
        "print(a)\n",
        "print(np.sort(a,axis=0))\n",
        "print(np.sort(a,axis=1))"
      ],
      "metadata": {
        "colab": {
          "base_uri": "https://localhost:8080/"
        },
        "id": "rgPbEzfr655j",
        "outputId": "275aa30c-7c50-42ca-d3db-583ba231351f"
      },
      "execution_count": null,
      "outputs": [
        {
          "output_type": "stream",
          "name": "stdout",
          "text": [
            "[[10 40 60]\n",
            " [20 30 50]]\n",
            "[[10 30 50]\n",
            " [20 40 60]]\n",
            "[[10 40 60]\n",
            " [20 30 50]]\n"
          ]
        }
      ]
    },
    {
      "cell_type": "markdown",
      "source": [
        "4.WAP to create continuous Flattened array"
      ],
      "metadata": {
        "id": "xK_wcC-P-ycV"
      }
    },
    {
      "cell_type": "code",
      "source": [
        "a=np.array([[10,40],[30,20]])\n",
        "print(np.sort(a,axis=None))"
      ],
      "metadata": {
        "colab": {
          "base_uri": "https://localhost:8080/"
        },
        "id": "hkA79tHB9QIk",
        "outputId": "5481abd6-e3b5-4df9-8323-6a85403735bf"
      },
      "execution_count": null,
      "outputs": [
        {
          "output_type": "stream",
          "name": "stdout",
          "text": [
            "[10 20 30 40]\n"
          ]
        }
      ]
    },
    {
      "cell_type": "code",
      "source": [
        "5. WAP"
      ],
      "metadata": {
        "id": "wlRx5B9m_v_T"
      },
      "execution_count": null,
      "outputs": []
    }
  ]
}